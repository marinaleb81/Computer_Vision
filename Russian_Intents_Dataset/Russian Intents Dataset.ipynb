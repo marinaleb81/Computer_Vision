{
 "cells": [
  {
   "cell_type": "code",
   "execution_count": 14,
   "metadata": {},
   "outputs": [],
   "source": [
    "import pandas as pd\n",
    "import numpy as np\n",
    "import nmslib # Для KNN\n",
    "import torch\n",
    "import os\n",
    "from transformers import AutoTokenizer, AutoModel\n",
    "from sklearn.model_selection import train_test_split\n",
    "from sklearn.metrics import accuracy_score \n",
    "from tqdm.auto import tqdm # Для отображения прогресса \n",
    "from collections import Counter \n",
    "import pandas as pd\n",
    "import numpy as np\n",
    "\n",
    "os.environ['KMP_DUPLICATE_LIB_OK']='True'"
   ]
  },
  {
   "cell_type": "code",
   "execution_count": 15,
   "metadata": {},
   "outputs": [
    {
     "name": "stdout",
     "output_type": "stream",
     "text": [
      "Загрузка обучающих данных из: dataset_train.tsv\n",
      "Загрузка тестовых данных из: dataset_test.tsv\n",
      "\n",
      "Данные успешно загружены.\n",
      "Пример обучающих данных:\n",
      "                         text             intent\n",
      "0           мне нужна справка  statement_general\n",
      "1            оформить справку  statement_general\n",
      "2               взять справку  statement_general\n",
      "3        справку как получить  statement_general\n",
      "4  справку ммф где получаться  statement_general\n",
      "\n",
      "Распределение по классам (Train):\n",
      "intent\n",
      "sched_teacher                1110\n",
      "sched_for_group               405\n",
      "sched_for_group_day           402\n",
      "wifi                          287\n",
      "status_free                   271\n",
      "                             ... \n",
      "smalltalk_talk                 23\n",
      "student_trade_union_enter      22\n",
      "nsu_foundation_date            22\n",
      "location_general               20\n",
      "staff_trade_union_enter        20\n",
      "Name: count, Length: 142, dtype: int64\n",
      "\n",
      "Всего классов: 142\n",
      "\n",
      "Размер обучающей выборки: 13230\n",
      "Размер тестовой выборки: 883\n"
     ]
    }
   ],
   "source": [
    "TRAIN_DATA_PATH = 'dataset_train.tsv'\n",
    "TEST_DATA_PATH = 'dataset_test.tsv'\n",
    "\n",
    "print(f\"Загрузка обучающих данных из: {TRAIN_DATA_PATH}\")\n",
    "print(f\"Загрузка тестовых данных из: {TEST_DATA_PATH}\")\n",
    "\n",
    "try:\n",
    "    train_df = pd.read_csv(TRAIN_DATA_PATH, sep='\\t', header=None, names=['text', 'intent'], quoting=3)\n",
    "    test_df = pd.read_csv(TEST_DATA_PATH, sep='\\t', header=None, names=['text', 'intent'], quoting=3)\n",
    "\n",
    "    text_col = 'text'\n",
    "    label_col = 'intent'\n",
    "\n",
    "    print(\"\\nДанные успешно загружены.\")\n",
    "    print(\"Пример обучающих данных:\")\n",
    "    print(train_df.head())\n",
    "    print(\"\\nРаспределение по классам (Train):\")\n",
    "    print(train_df[label_col].value_counts())\n",
    "    print(f\"\\nВсего классов: {train_df[label_col].nunique()}\")\n",
    "\n",
    "    train_texts = train_df[text_col].astype(str).tolist() \n",
    "    train_labels = train_df[label_col].tolist()\n",
    "    test_texts = test_df[text_col].astype(str).tolist()\n",
    "    test_labels = test_df[label_col].tolist()\n",
    "\n",
    "    print(f\"\\nРазмер обучающей выборки: {len(train_texts)}\")\n",
    "    print(f\"Размер тестовой выборки: {len(test_texts)}\")\n",
    "\n",
    "except FileNotFoundError:\n",
    "    print(f\"Ошибка: Файлы не найдены. Убедитесь, что {TRAIN_DATA_PATH} и {TEST_DATA_PATH} находятся в папке E:\\\\cv_project\")\n",
    "    exit()\n",
    "except Exception as e:\n",
    "    print(f\"Произошла ошибка при чтении или обработке файлов: {e}\")\n",
    "    exit()\n"
   ]
  },
  {
   "cell_type": "code",
   "execution_count": 16,
   "metadata": {},
   "outputs": [
    {
     "name": "stdout",
     "output_type": "stream",
     "text": [
      "\n",
      "Загрузка модели: sberbank-ai/sbert_large_nlu_ru\n",
      "Модель будет использовать: cpu\n"
     ]
    }
   ],
   "source": [
    "# MODEL_NAME = 'sentence-transformers/paraphrase-xlm-r-multilingual-v1'\n",
    "MODEL_NAME = 'sberbank-ai/sbert_large_nlu_ru' # Попробуйте эту, если первая не устроит\n",
    "\n",
    "print(f\"\\nЗагрузка модели: {MODEL_NAME}\")\n",
    "tokenizer = AutoTokenizer.from_pretrained(MODEL_NAME)\n",
    "model = AutoModel.from_pretrained(MODEL_NAME)#\n",
    "\n",
    "device = torch.device(\"cuda\" if torch.cuda.is_available() else \"cpu\")\n",
    "model.to(device) \n",
    "print(f\"Модель будет использовать: {device}\")"
   ]
  },
  {
   "cell_type": "code",
   "execution_count": 17,
   "metadata": {},
   "outputs": [],
   "source": [
    "def mean_pooling(model_output, attention_mask):\n",
    "    token_embeddings = model_output[0]\n",
    "    input_mask_expanded = attention_mask.unsqueeze(-1).expand(token_embeddings.size()).float()\n",
    "    sum_embeddings = torch.sum(token_embeddings * input_mask_expanded, 1)\n",
    "    sum_mask = torch.clamp(input_mask_expanded.sum(1), min=1e-9)\n",
    "    return sum_embeddings / sum_mask\n",
    "\n",
    "# Функция для генерации эмбеддингов для списка текстов (с батчингом)\n",
    "def get_embeddings(texts, batch_size=64): # Увеличила batch_size для скорости\n",
    "    all_embeddings = []\n",
    "    model.eval() \n",
    "    # Используем tqdm для отображения прогресс-бара\n",
    "    for i in tqdm(range(0, len(texts), batch_size), desc=\"Generating Embeddings\"):\n",
    "        batch_texts = texts[i:i+batch_size]\n",
    "        encoded_input = tokenizer(batch_texts, padding=True, truncation=True, return_tensors='pt').to(device)\n",
    "        with torch.no_grad():\n",
    "            model_output = model(**encoded_input)\n",
    "        batch_embeddings = mean_pooling(model_output, encoded_input['attention_mask'])\n",
    "        all_embeddings.append(batch_embeddings.cpu().numpy())\n",
    "        \n",
    "    return np.vstack(all_embeddings)"
   ]
  },
  {
   "cell_type": "code",
   "execution_count": 18,
   "metadata": {},
   "outputs": [
    {
     "name": "stdout",
     "output_type": "stream",
     "text": [
      "\n",
      "Генерация эмбеддингов для обучающей выборки...\n"
     ]
    },
    {
     "name": "stderr",
     "output_type": "stream",
     "text": [
      "Generating Embeddings:   0%|          | 0/207 [00:00<?, ?it/s]Asking to truncate to max_length but no maximum length is provided and the model has no predefined maximum length. Default to no truncation.\n",
      "Generating Embeddings: 100%|██████████| 207/207 [06:04<00:00,  1.76s/it]\n"
     ]
    },
    {
     "name": "stdout",
     "output_type": "stream",
     "text": [
      "\n",
      "Генерация эмбеддингов для тестовой выборки...\n"
     ]
    },
    {
     "name": "stderr",
     "output_type": "stream",
     "text": [
      "Generating Embeddings: 100%|██████████| 14/14 [00:26<00:00,  1.92s/it]"
     ]
    },
    {
     "name": "stdout",
     "output_type": "stream",
     "text": [
      "\n",
      "Размерность эмбеддингов обучающей выборки: (13230, 1024)\n",
      "Размерность эмбеддингов тестовой выборки: (883, 1024)\n"
     ]
    },
    {
     "name": "stderr",
     "output_type": "stream",
     "text": [
      "\n"
     ]
    }
   ],
   "source": [
    "print(\"\\nГенерация эмбеддингов для обучающей выборки...\")\n",
    "train_embeddings = get_embeddings(train_texts)\n",
    "print(\"\\nГенерация эмбеддингов для тестовой выборки...\")\n",
    "test_embeddings = get_embeddings(test_texts)\n",
    "\n",
    "print(f\"\\nРазмерность эмбеддингов обучающей выборки: {train_embeddings.shape}\")\n",
    "print(f\"Размерность эмбеддингов тестовой выборки: {test_embeddings.shape}\")\n",
    "\n",
    "train_embeddings = train_embeddings.astype(np.float32)\n",
    "test_embeddings = test_embeddings.astype(np.float32)"
   ]
  },
  {
   "cell_type": "code",
   "execution_count": 19,
   "metadata": {},
   "outputs": [
    {
     "name": "stdout",
     "output_type": "stream",
     "text": [
      "\n",
      "Создание индекса nmslib...\n",
      "Индекс построен.\n"
     ]
    }
   ],
   "source": [
    "print(\"\\nСоздание индекса nmslib...\")\n",
    "index = nmslib.init(method='hnsw', space='cosinesimil') # 'cosinesimil' - косинусное сходство, стандарт для эмбеддингов предложений.\n",
    "\n",
    "index.addDataPointBatch(train_embeddings)\n",
    "\n",
    "index_time_params = {'M': 20, 'efConstruction': 100, 'post': 0}\n",
    "index.createIndex(index_time_params, print_progress=True)\n",
    "print(\"Индекс построен.\")"
   ]
  },
  {
   "cell_type": "code",
   "execution_count": 20,
   "metadata": {},
   "outputs": [
    {
     "name": "stdout",
     "output_type": "stream",
     "text": [
      "\n",
      "Поиск ближайших соседей для тестовой выборки...\n",
      "Поиск завершен.\n"
     ]
    }
   ],
   "source": [
    "print(\"\\nПоиск ближайших соседей для тестовой выборки...\")\n",
    "K = 1 \n",
    "\n",
    "neighbors = index.knnQueryBatch(test_embeddings, k=K, num_threads=4) \n",
    "print(\"Поиск завершен.\")"
   ]
  },
  {
   "cell_type": "code",
   "execution_count": 21,
   "metadata": {},
   "outputs": [],
   "source": [
    "predicted_labels_k1 = []\n",
    "for neighbor_info in neighbors:\n",
    "    nearest_train_index = neighbor_info[0][0] \n",
    "    predicted_labels_k1.append(train_labels[nearest_train_index])"
   ]
  },
  {
   "cell_type": "code",
   "execution_count": null,
   "metadata": {},
   "outputs": [
    {
     "name": "stdout",
     "output_type": "stream",
     "text": [
      "\n",
      "Точность классификации (по 1 ближайшему соседу): 0.8777\n",
      "\n",
      "Поиск 5 ближайших соседей...\n",
      "Точность классификации (k=5, голосование большинством): 0.8652\n",
      "\n",
      "Готово!\n"
     ]
    }
   ],
   "source": [
    "accuracy_k1 = accuracy_score(test_labels, predicted_labels_k1)\n",
    "print(f\"\\nТочность классификации (по 1 ближайшему соседу): {accuracy_k1:.4f}\")\n",
    "\n",
    "print(\"\\nПоиск 5 ближайших соседей...\")\n",
    "K = 5\n",
    "neighbors_k5 = index.knnQueryBatch(test_embeddings, k=K, num_threads=4)\n",
    "\n",
    "predicted_labels_k5 = []\n",
    "for neighbor_info in neighbors_k5:\n",
    "    neighbor_indices = neighbor_info[0] # Индексы 5 ближайших соседей\n",
    "    neighbor_actual_labels = [train_labels[i] for i in neighbor_indices] \n",
    "    most_common_label = Counter(neighbor_actual_labels).most_common(1)[0][0]\n",
    "    predicted_labels_k5.append(most_common_label)\n",
    "\n",
    "accuracy_k5 = accuracy_score(test_labels, predicted_labels_k5)\n",
    "print(f\"Точность классификации (k=5, голосование большинством): {accuracy_k5:.4f}\")\n",
    "\n",
    "print(\"\\nГотово!\")"
   ]
  }
 ],
 "metadata": {
  "kernelspec": {
   "display_name": "nmslib_clean",
   "language": "python",
   "name": "python3"
  },
  "language_info": {
   "codemirror_mode": {
    "name": "ipython",
    "version": 3
   },
   "file_extension": ".py",
   "mimetype": "text/x-python",
   "name": "python",
   "nbconvert_exporter": "python",
   "pygments_lexer": "ipython3",
   "version": "3.9.21"
  }
 },
 "nbformat": 4,
 "nbformat_minor": 2
}
